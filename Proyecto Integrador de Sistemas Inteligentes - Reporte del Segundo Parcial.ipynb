{
 "cells": [
  {
   "cell_type": "markdown",
   "metadata": {},
   "source": [
    "Nombre y correo electrónico de mi líder: Xochitl Lyvier Morales Rodríguez\n",
    "xmorales@itesm.mx"
   ]
  },
  {
   "cell_type": "markdown",
   "metadata": {},
   "source": [
    "# Introducción"
   ]
  },
  {
   "cell_type": "markdown",
   "metadata": {},
   "source": [
    "Existen diversos algoritmos de Machine Learning y Deep Learning utilizados para la clasificación de datos. El propósito de utilizar estos algoritmos es obtener nuevo conocimiento, en base a un conjunto de datos. El nuevo conocimiento, en este contexto, se refiere a la asignación de una misma categoría a conjuntos de datos con características similares.\n",
    "\n",
    "En el primer parcial, se utilizó el algoritmo de K-means para obtener grupos de datos basados en los atributos numéricos nps y puntaje sentimiento. Para este parcial, se hicieron pruebas de varios algoritmos para analizar los atributos categóricos."
   ]
  },
  {
   "cell_type": "markdown",
   "metadata": {},
   "source": [
    "# Problema o problemas a resolver"
   ]
  },
  {
   "cell_type": "markdown",
   "metadata": {},
   "source": [
    "El principal problema que se tuvo en el parcial pasado con el algoritmo de K-means, fue que a pesar de que si se obtuvieron grupos de registros similares hasta cierto grado, realmente no se pudo encontrar una relación entre estos registros. Es por esto que para este parcial se le dio un mayor enfoque al análisis de los atributos categóricos de las columnas."
   ]
  },
  {
   "cell_type": "markdown",
   "metadata": {},
   "source": [
    "# ¿Cómo se está resolviendo? "
   ]
  },
  {
   "cell_type": "markdown",
   "metadata": {},
   "source": [
    "Se hicieron pruebas con los algoritmos de 1R, Naive Bayes, CART y con una red neuronal para encontrar razones o motivos de que el nps sea mayor o menor a 75."
   ]
  },
  {
   "cell_type": "markdown",
   "metadata": {},
   "source": [
    "# Resultados obtenidos hasta el momento:"
   ]
  },
  {
   "cell_type": "markdown",
   "metadata": {},
   "source": [
    "# 1R Algorithm (Development)"
   ]
  },
  {
   "cell_type": "markdown",
   "metadata": {},
   "source": [
    "El propósito de utilizar este algoritmo es encontrar el atributo que es el determinante para que la clase sea mayor o menor a 75. \n",
    "\n",
    "Se utilizó una tabla de datos para probar el algoritmo, una vez que se compruebe que el algoritmo es confiable, se utilizará con los datos de las ECOAS."
   ]
  },
  {
   "cell_type": "code",
   "execution_count": null,
   "metadata": {
    "scrolled": true
   },
   "outputs": [],
   "source": [
    "test = pd.read_excel (r'Test.xlsx')\n",
    "print(test)"
   ]
  },
  {
   "cell_type": "markdown",
   "metadata": {},
   "source": [
    "Se verifica el tipo de columna. Si esta es booleana o categórica, no se modifica. Si la columna tiene datos numéricos, se convierte a string. Estas líneas de código están pensadas para utilizarse en la tabla de datos de los ECOAS"
   ]
  },
  {
   "cell_type": "code",
   "execution_count": null,
   "metadata": {},
   "outputs": [],
   "source": [
    "#converting the types of the columns to strings and booleans\n",
    "\n",
    "for col in test.columns:\n",
    "    if(test[col].dtype == np.object or test[col].dtype == np.bool):\n",
    "          pass\n",
    "    else:\n",
    "          test[col] = test[col].astype(str)\n",
    "print(test.dtypes)"
   ]
  },
  {
   "cell_type": "markdown",
   "metadata": {},
   "source": [
    "Se importó el módulo fractions. El propósito de esto es obtener fracciones con las probabilidades de que el valor del atributo sea verdadero o falso. Sin embargo, se encontró con un obstáculo, ya que no se encontró la forma de contabilizar los valores de valores únicos en cada columna. Tiempo después se encontró, pero el código está escrito para un array, no un dataframe que es lo que se está utilizando. Se está escribiendo la función para que acepte dataframes."
   ]
  },
  {
   "cell_type": "code",
   "execution_count": null,
   "metadata": {},
   "outputs": [],
   "source": [
    "from fractions import Fraction\n",
    "\n",
    "#print(test['Outlook'])\n",
    "a = test['Outlook'].value_counts()\n",
    "target = test['Play'].value_counts()\n",
    "#length_target = target.size\n",
    "#length = a.size\n",
    "x = 0\n",
    "gkk = test.groupby(['Outlook'])\n",
    "print(gkk)\n",
    "\n",
    "\n",
    "\"\"\"while x < length:\n",
    "    numerator = a.iloc[x]\n",
    "    print(a.iloc[x])\n",
    "    \n",
    "    x = x+1 \n",
    "\"\"\"\n",
    "#if a(sunny) > a.iloc[:2]:\n",
    " \n",
    "    #print(a[:0])\n",
    "#else:\n",
    " #   pass\n",
    "#print(a)"
   ]
  },
  {
   "cell_type": "markdown",
   "metadata": {},
   "source": [
    "Actualmente, este algoritmo se encuentra en stand-by hasta que se termine de escribir la función previamente mencionada."
   ]
  },
  {
   "cell_type": "markdown",
   "metadata": {},
   "source": [
    "# Naïve Bayes Algorithm (Development)"
   ]
  },
  {
   "cell_type": "markdown",
   "metadata": {},
   "source": [
    "Con este algoritmo, se busca obtener las probabilidades de que la clase sea mayor o menor a 75, en base a los datos obtenidos en las ECOAS. Posteriormente se planea obtener una predicción en base a un query.\n",
    "\n",
    "Inicialmente se planeaba utilizar los módulos de Naive Bayes que vienen en la librería de sklearn; para esto, se siguió el siguiente ejemplo:\n",
    "https://stackabuse.com/the-naive-bayes-algorithm-in-python-with-scikit-learn/\n",
    "\n",
    "No obstante, se encontró que esta librería requiere como input datos numéricos, por lo que no se pueden usar las variables categóricas."
   ]
  },
  {
   "cell_type": "code",
   "execution_count": null,
   "metadata": {},
   "outputs": [],
   "source": [
    "df = pd.read_table('SMSSpamCollection',\n",
    "                   sep='\\t', \n",
    "                   header=None,\n",
    "                   names=['label', 'message'])"
   ]
  },
  {
   "cell_type": "code",
   "execution_count": null,
   "metadata": {},
   "outputs": [],
   "source": [
    "df['label'] = df.label.map({'ham': 0, 'spam': 1})"
   ]
  },
  {
   "cell_type": "code",
   "execution_count": null,
   "metadata": {},
   "outputs": [],
   "source": [
    "df['message'] = df.message.map(lambda x: x.lower())\n",
    "df['message'] = df.message.str.replace('[^\\w\\s]', '')b"
   ]
  },
  {
   "cell_type": "code",
   "execution_count": null,
   "metadata": {},
   "outputs": [],
   "source": [
    "import nltk\n",
    "nltk.download()"
   ]
  },
  {
   "cell_type": "code",
   "execution_count": null,
   "metadata": {},
   "outputs": [],
   "source": [
    "df['message'] = df['message'].apply(nltk.word_tokenize)"
   ]
  },
  {
   "cell_type": "code",
   "execution_count": null,
   "metadata": {},
   "outputs": [],
   "source": [
    "from nltk.stem import PorterStemmer\n",
    "\n",
    "stemmer = PorterStemmer()\n",
    " \n",
    "df['message'] = df['message'].apply(lambda x: [stemmer.stem(y) for y in x])"
   ]
  },
  {
   "cell_type": "code",
   "execution_count": null,
   "metadata": {},
   "outputs": [],
   "source": [
    "from nltk.stem import PorterStemmer\n",
    "\n",
    "stemmer = PorterStemmer()\n",
    " \n",
    "df['message'] = df['message'].apply(lambda x: [stemmer.stem(y) for y in x])"
   ]
  },
  {
   "cell_type": "code",
   "execution_count": null,
   "metadata": {},
   "outputs": [],
   "source": [
    "from sklearn.model_selection import train_test_split\n",
    "\n",
    "X_train, X_test, y_train, y_test = train_test_split(counts, df['label'], test_size=0.1, random_state=69)"
   ]
  },
  {
   "cell_type": "code",
   "execution_count": null,
   "metadata": {},
   "outputs": [],
   "source": [
    "from sklearn.naive_bayes import MultinomialNB\n",
    "\n",
    "model = MultinomialNB().fit(X_train, y_train)\n",
    "print(model)\n",
    "print(counts)"
   ]
  },
  {
   "cell_type": "markdown",
   "metadata": {},
   "source": [
    "Se puede implementar el algoritmo para que pueda contar los valores categóricos y así obtener las probabilidades. No obstante, se necesita de una función que cuente la cantidad de valores, igual a la del algoritmo 1R. Por lo tanto, también este algoritmo se encuentra en stand-by."
   ]
  },
  {
   "cell_type": "markdown",
   "metadata": {},
   "source": [
    "# Classification and Regression tree (CART) Algorithm"
   ]
  },
  {
   "cell_type": "markdown",
   "metadata": {},
   "source": [
    "Se utilizó el algoritmo CART, tomado de este repositorio: https://github.com/random-forests/tutorials/blob/master/decision_tree.ipynb\n",
    "\n",
    "Este algoritmo es similar al C4.5. La principal diferencia radica en que este algoritmo mide la ganancia de información utilizando la impureza de Gini en lugar de la entropía.\n",
    "\n",
    "Se utilizó el dataset de test y se obtuvo un árbol de decisión. Una vez que se revisó este árbol, se implementó este algoritmo para los datos obtenidos de las encuestas. Sin embargo, a la hora de correr el código, este no es capaz de producir un árbol (se corre el algoritmo, este continúa corriendo por un largo tiempo, más de 15 minutos, y no es capaz de proveer un árbol). Se cree que si se reduce la tabla o si se divide en segmentos, es posible que si se pueda obtener un árbol."
   ]
  },
  {
   "cell_type": "code",
   "execution_count": null,
   "metadata": {},
   "outputs": [],
   "source": [
    "#Testing with sample dataset\n",
    "import decision_tree as dt\n",
    "dec_tree = test.values #converting the dataframe into an array\n",
    "my_tree = dt.build_tree(dec_tree)\n",
    "dt.print_tree(my_tree)"
   ]
  },
  {
   "cell_type": "code",
   "execution_count": null,
   "metadata": {},
   "outputs": [],
   "source": [
    "nps75 = pd.read_excel (r'nps75.xlsx')\n",
    "\n",
    "for col in nps75:\n",
    "    nps75[col] = [np.nan if (not isinstance(val, str) and np.isnan(val)) else \n",
    "               (val if isinstance(val, str) else str(int(val))) \n",
    "               for val in nps75[col].tolist()]\n",
    "\n",
    "print(nps75.dtypes)"
   ]
  },
  {
   "cell_type": "markdown",
   "metadata": {},
   "source": [
    "Para la implementación del algoritmo con los datos de las ECOAS, primero se convirtió los datos a un array para que puedan ser utilizados por las funciones."
   ]
  },
  {
   "cell_type": "code",
   "execution_count": null,
   "metadata": {},
   "outputs": [],
   "source": [
    "#Using the dataframe\n",
    "import decision_tree as dt\n",
    "dec_tree = nps75.values #converting the dataframe into an array\n",
    "my_tree = dt.build_tree(dec_tree)\n",
    "dt.print_tree(my_tree)"
   ]
  },
  {
   "cell_type": "markdown",
   "metadata": {},
   "source": [
    "# Neural Nertwork"
   ]
  },
  {
   "cell_type": "markdown",
   "metadata": {},
   "source": [
    "Se usaron las siguientes librerías:"
   ]
  },
  {
   "cell_type": "code",
   "execution_count": 1,
   "metadata": {},
   "outputs": [],
   "source": [
    "#By José Francisco Pacheco Quintana a.k.a. 'pach'\n",
    "import numpy as np\n",
    "import pandas as pd\n",
    "import seaborn as sns\n",
    "import matplotlib.pyplot as plt\n",
    "%matplotlib inline"
   ]
  },
  {
   "cell_type": "markdown",
   "metadata": {},
   "source": [
    "Se construye un dataset en base a un archivo de datos al que previamente ya se había hecho análisis"
   ]
  },
  {
   "cell_type": "code",
   "execution_count": 2,
   "metadata": {},
   "outputs": [],
   "source": [
    "dataset = pd.read_excel (r'commentsData.xlsx')"
   ]
  },
  {
   "cell_type": "markdown",
   "metadata": {},
   "source": [
    "Nos muestra las dimensiones y la estructura general del dataset"
   ]
  },
  {
   "cell_type": "code",
   "execution_count": 3,
   "metadata": {},
   "outputs": [
    {
     "data": {
      "text/html": [
       "<div>\n",
       "<style scoped>\n",
       "    .dataframe tbody tr th:only-of-type {\n",
       "        vertical-align: middle;\n",
       "    }\n",
       "\n",
       "    .dataframe tbody tr th {\n",
       "        vertical-align: top;\n",
       "    }\n",
       "\n",
       "    .dataframe thead th {\n",
       "        text-align: right;\n",
       "    }\n",
       "</style>\n",
       "<table border=\"1\" class=\"dataframe\">\n",
       "  <thead>\n",
       "    <tr style=\"text-align: right;\">\n",
       "      <th></th>\n",
       "      <th>id</th>\n",
       "      <th>tipo</th>\n",
       "      <th>campus</th>\n",
       "      <th>id_programa</th>\n",
       "      <th>nps</th>\n",
       "      <th>programa</th>\n",
       "      <th>id_externo_programa</th>\n",
       "      <th>id_modulo</th>\n",
       "      <th>modulo</th>\n",
       "      <th>instructor</th>\n",
       "      <th>...</th>\n",
       "      <th>fecha_inicio_modulo</th>\n",
       "      <th>fecha_fin_modulo</th>\n",
       "      <th>indicador</th>\n",
       "      <th>codigo_indicador</th>\n",
       "      <th>comentario</th>\n",
       "      <th>puntaje_sentimiento</th>\n",
       "      <th>sentimiento</th>\n",
       "      <th>categoria</th>\n",
       "      <th>subcategoria</th>\n",
       "      <th>grupo</th>\n",
       "    </tr>\n",
       "  </thead>\n",
       "  <tbody>\n",
       "    <tr>\n",
       "      <th>0</th>\n",
       "      <td>1</td>\n",
       "      <td>B2B</td>\n",
       "      <td>CSF (Santa Fe)</td>\n",
       "      <td>3483</td>\n",
       "      <td>-50.0</td>\n",
       "      <td>Consultoría de Negocio</td>\n",
       "      <td>csf_c_0901B11353_2</td>\n",
       "      <td>60328</td>\n",
       "      <td>M16 G1: Mercados Financieros Nacionales e Inte...</td>\n",
       "      <td>Gerardo  Salazar  Viezca</td>\n",
       "      <td>...</td>\n",
       "      <td>2018-05-11</td>\n",
       "      <td>2018-06-01</td>\n",
       "      <td>Retroalimentación para el Instructor</td>\n",
       "      <td>CAINST</td>\n",
       "      <td>Que su curso lo haga mas dinámico, tiene una v...</td>\n",
       "      <td>-0.12</td>\n",
       "      <td>Negativo</td>\n",
       "      <td>Instructor</td>\n",
       "      <td>Dinamismo y Ejercicios</td>\n",
       "      <td>4</td>\n",
       "    </tr>\n",
       "    <tr>\n",
       "      <th>1</th>\n",
       "      <td>2</td>\n",
       "      <td>B2B</td>\n",
       "      <td>CSF (Santa Fe)</td>\n",
       "      <td>3483</td>\n",
       "      <td>-50.0</td>\n",
       "      <td>Consultoría de Negocio</td>\n",
       "      <td>csf_c_0901B11353_2</td>\n",
       "      <td>60328</td>\n",
       "      <td>M16 G1: Mercados Financieros Nacionales e Inte...</td>\n",
       "      <td>Gerardo  Salazar  Viezca</td>\n",
       "      <td>...</td>\n",
       "      <td>2018-05-11</td>\n",
       "      <td>2018-06-01</td>\n",
       "      <td>Retroalimentación para el Instructor</td>\n",
       "      <td>CAINST</td>\n",
       "      <td>El instructuor es muy bueno, conoce muy bien l...</td>\n",
       "      <td>0.46</td>\n",
       "      <td>Positivo</td>\n",
       "      <td>Instructor</td>\n",
       "      <td>Habilidad de Enseñanza</td>\n",
       "      <td>4</td>\n",
       "    </tr>\n",
       "  </tbody>\n",
       "</table>\n",
       "<p>2 rows × 25 columns</p>\n",
       "</div>"
      ],
      "text/plain": [
       "   id tipo          campus  id_programa   nps                programa  \\\n",
       "0   1  B2B  CSF (Santa Fe)         3483 -50.0  Consultoría de Negocio   \n",
       "1   2  B2B  CSF (Santa Fe)         3483 -50.0  Consultoría de Negocio   \n",
       "\n",
       "  id_externo_programa  id_modulo  \\\n",
       "0  csf_c_0901B11353_2      60328   \n",
       "1  csf_c_0901B11353_2      60328   \n",
       "\n",
       "                                              modulo  \\\n",
       "0  M16 G1: Mercados Financieros Nacionales e Inte...   \n",
       "1  M16 G1: Mercados Financieros Nacionales e Inte...   \n",
       "\n",
       "                  instructor  ...  fecha_inicio_modulo fecha_fin_modulo  \\\n",
       "0  Gerardo  Salazar  Viezca   ...           2018-05-11       2018-06-01   \n",
       "1  Gerardo  Salazar  Viezca   ...           2018-05-11       2018-06-01   \n",
       "\n",
       "                              indicador codigo_indicador  \\\n",
       "0  Retroalimentación para el Instructor           CAINST   \n",
       "1  Retroalimentación para el Instructor           CAINST   \n",
       "\n",
       "                                          comentario puntaje_sentimiento  \\\n",
       "0  Que su curso lo haga mas dinámico, tiene una v...               -0.12   \n",
       "1  El instructuor es muy bueno, conoce muy bien l...                0.46   \n",
       "\n",
       "  sentimiento   categoria            subcategoria grupo  \n",
       "0    Negativo  Instructor  Dinamismo y Ejercicios     4  \n",
       "1    Positivo  Instructor  Habilidad de Enseñanza     4  \n",
       "\n",
       "[2 rows x 25 columns]"
      ]
     },
     "execution_count": 3,
     "metadata": {},
     "output_type": "execute_result"
    }
   ],
   "source": [
    "dataset.head(2)"
   ]
  },
  {
   "cell_type": "markdown",
   "metadata": {},
   "source": [
    "Se borran estas columnas, ya que se  consideran innecesarias para la red neuronal, esto es ya que resultan repetitivas con otras columnas."
   ]
  },
  {
   "cell_type": "code",
   "execution_count": 4,
   "metadata": {},
   "outputs": [],
   "source": [
    "dataset = dataset.drop(['id', 'comentario', 'correo_coordinador', 'correo_instructor', 'id_externo_programa', 'id_modulo', 'correo_instructor', 'fecha_instructor', 'correo_coordinador', 'fecha_coordinador', 'codigo_indicador', 'comentario', 'grupo', 'fecha_inicio_modulo', 'fecha_fin_modulo'], axis = 1)"
   ]
  },
  {
   "cell_type": "markdown",
   "metadata": {},
   "source": [
    "Se guarda el dataset en un archivo para futuros análisis"
   ]
  },
  {
   "cell_type": "code",
   "execution_count": 5,
   "metadata": {},
   "outputs": [],
   "source": [
    "from pandas import ExcelWriter\n",
    "writer = ExcelWriter('dataset.xlsx')\n",
    "dataset.to_excel(writer,'Sheet1')\n",
    "writer.save()"
   ]
  },
  {
   "cell_type": "markdown",
   "metadata": {},
   "source": [
    "Se declara la variable df, la cual consiste en un dataset sin los valores numéricos en las conferencias. Luego se borran las filas que contienen algún NaN"
   ]
  },
  {
   "cell_type": "code",
   "execution_count": 7,
   "metadata": {},
   "outputs": [],
   "source": [
    "df = pd.read_excel(r'dataset.xlsx')\n",
    "df = df.dropna()"
   ]
  },
  {
   "cell_type": "markdown",
   "metadata": {},
   "source": [
    "Antes de realizar cualquier análisis con el dataset, se tienen que discretizar todas las columnas categóricas. La primera fue las de \"nps75\", ya que esta es necesaria para obtener la clase para el análisis; primero se crea una variable booleana que es true cuando el nps del registro es mayor o igual a 75 y false cuando es menor. Luego de obtener esta columna, ésta es borrada del dataset."
   ]
  },
  {
   "cell_type": "code",
   "execution_count": 8,
   "metadata": {},
   "outputs": [],
   "source": [
    "df['nps75'] = (df['nps'] >= 75)\n",
    "df = df.drop(['nps'], axis = 1)"
   ]
  },
  {
   "cell_type": "markdown",
   "metadata": {},
   "source": [
    "Se convierte de booleano a una variable nuḿerica que tiene valores de 1 o 0"
   ]
  },
  {
   "cell_type": "code",
   "execution_count": 9,
   "metadata": {},
   "outputs": [],
   "source": [
    "df['nps75'] = df['nps75'].astype(int)"
   ]
  },
  {
   "cell_type": "markdown",
   "metadata": {},
   "source": [
    "Se crea la función get_campus, la cual regresa un dataframe conformado con las filas sobre un campus en específico, además de borrar la columna 'campus'"
   ]
  },
  {
   "cell_type": "code",
   "execution_count": 10,
   "metadata": {},
   "outputs": [],
   "source": [
    "def get_campus(data, campus):\n",
    "    data_campus = data.loc[dataset['campus'] == campus]\n",
    "    data_campus = data_campus.drop(['campus'], axis = 1)\n",
    "    return data_campus"
   ]
  },
  {
   "cell_type": "markdown",
   "metadata": {},
   "source": [
    "Para efectos de ejemplo, se utilizó el campus Aguascalientes."
   ]
  },
  {
   "cell_type": "code",
   "execution_count": 11,
   "metadata": {},
   "outputs": [],
   "source": [
    "ags = get_campus(df, 'AGS (Aguascalientes)')"
   ]
  },
  {
   "cell_type": "markdown",
   "metadata": {},
   "source": [
    "Se define la función conv_string, la cual convierte la columna 'id_programa' a string"
   ]
  },
  {
   "cell_type": "code",
   "execution_count": 12,
   "metadata": {},
   "outputs": [],
   "source": [
    "def conv_string(df):\n",
    "    df['id_programa'] = df['id_programa'].astype(str)\n",
    "    return df"
   ]
  },
  {
   "cell_type": "markdown",
   "metadata": {},
   "source": [
    "Se define la funcion cat_to_num, la cual llama a la función conv_string e introduce un dataframe a esta. Luego se codifican de forma binaria las columnas categóricas para que sean numéricas. Esto causa que se genere una columna nueva para cada diferente valor categórico que exista en las columnas."
   ]
  },
  {
   "cell_type": "code",
   "execution_count": 15,
   "metadata": {},
   "outputs": [],
   "source": [
    "def cat_to_num(df):\n",
    "    conv_string(df)\n",
    "    num = pd.get_dummies(df)\n",
    "    num1 = num.pop('nps75')\n",
    "    num['nps75'] = num1\n",
    "    return num"
   ]
  },
  {
   "cell_type": "markdown",
   "metadata": {},
   "source": [
    "Se grafica la correlación entre variables, no es muy claro, debido a que en el proceso de decodificación de las variables categóricas, se obtuvieron columnas con pocos 1's y muchos 0's. Sin embargo, se puede ver que hay algunas variables que si muestran cierto grado de correlación (los puntos negros)"
   ]
  },
  {
   "cell_type": "code",
   "execution_count": 17,
   "metadata": {},
   "outputs": [
    {
     "data": {
      "text/plain": [
       "<matplotlib.axes._subplots.AxesSubplot at 0x7f65411b1438>"
      ]
     },
     "execution_count": 17,
     "metadata": {},
     "output_type": "execute_result"
    },
    {
     "data": {
      "image/png": "[encoded data removed]",
      "text/plain": [
       "<Figure size 432x288 with 2 Axes>"
      ]
     },
     "metadata": {
      "needs_background": "light"
     },
     "output_type": "display_data"
    }
   ],
   "source": [
    "sns.heatmap(d.corr(), annot=True)"
   ]
  },
  {
   "cell_type": "markdown",
   "metadata": {},
   "source": [
    "Se crean los dataframes 'X' y 'y', x corresponde a las variables independientes, es decir, nuestro input; y corresponde a la variable dependiente, la clase"
   ]
  },
  {
   "cell_type": "code",
   "execution_count": 23,
   "metadata": {},
   "outputs": [],
   "source": [
    "X= d.iloc[:,0:len(d.columns)-1]\n",
    "y= d.iloc[:,len(d.columns)-1]"
   ]
  },
  {
   "cell_type": "markdown",
   "metadata": {},
   "source": [
    "Se importa la función StandardScaler del módulo preprocessing, se introducen las variables independientes a esta función"
   ]
  },
  {
   "cell_type": "code",
   "execution_count": 24,
   "metadata": {},
   "outputs": [
    {
     "data": {
      "text/plain": [
       "array([[ 0.66776095, -1.25380776,  1.25380776, ..., -0.18930446,\n",
       "        -0.15081916, -0.02871241],\n",
       "       [ 0.84022751, -1.25380776,  1.25380776, ..., -0.18930446,\n",
       "        -0.15081916, -0.02871241],\n",
       "       [-0.71197149, -1.25380776,  1.25380776, ..., -0.18930446,\n",
       "        -0.15081916, -0.02871241],\n",
       "       ...,\n",
       "       [ 1.01269406,  0.79757043, -0.79757043, ..., -0.18930446,\n",
       "        -0.15081916, -0.02871241],\n",
       "       [ 0.77124088,  0.79757043, -0.79757043, ..., -0.18930446,\n",
       "        -0.15081916, -0.02871241],\n",
       "       [-0.19457182,  0.79757043, -0.79757043, ..., -0.18930446,\n",
       "        -0.15081916, -0.02871241]])"
      ]
     },
     "execution_count": 24,
     "metadata": {},
     "output_type": "execute_result"
    }
   ],
   "source": [
    "#standardizing the input feature\n",
    "from sklearn.preprocessing import StandardScaler\n",
    "sc = StandardScaler()\n",
    "X = sc.fit_transform(X)\n",
    "X"
   ]
  },
  {
   "cell_type": "markdown",
   "metadata": {},
   "source": [
    "Se emplea la función train_test_split para dividir los dataframes 'X' y 'y' en 4 dataframes, dos para entrenamiento y dos para testing"
   ]
  },
  {
   "cell_type": "code",
   "execution_count": 25,
   "metadata": {},
   "outputs": [],
   "source": [
    "from sklearn.model_selection import train_test_split\n",
    "X_train, X_test, y_train, y_test = train_test_split(X, y, test_size=0.3)"
   ]
  },
  {
   "cell_type": "markdown",
   "metadata": {},
   "source": [
    "De la librería keras, se importan el módulo Sequential y de layers, se importa la función Dense"
   ]
  },
  {
   "cell_type": "code",
   "execution_count": 26,
   "metadata": {},
   "outputs": [
    {
     "name": "stderr",
     "output_type": "stream",
     "text": [
      "/home/pach/anaconda3/lib/python3.6/site-packages/h5py/__init__.py:36: FutureWarning: Conversion of the second argument of issubdtype from `float` to `np.floating` is deprecated. In future, it will be treated as `np.float64 == np.dtype(float).type`.\n",
      "  from ._conv import register_converters as _register_converters\n",
      "Using TensorFlow backend.\n"
     ]
    }
   ],
   "source": [
    "from keras import Sequential\n",
    "from keras.layers import Dense"
   ]
  },
  {
   "cell_type": "markdown",
   "metadata": {},
   "source": [
    "Se crearon 25 capas para el análisis de los datos. Realmente no existe un método en específico para determinar cuántas capaz y neuronas se deben de utilizar en una red neuronal. De acuerdo a [1], uno de los métodos que se puede utilizar es experimentación. No obstante, a fin de que el proceso no sea tan arbitrario y basado en [2], que es el sitio que se utilizó como referencia para la elaboración de este modelo, se obtuvo el número de neuronas como función de parte entera del logaritmo base dos del número total de columnas de input más 1. El número de capas, sin contar la capa de salida, se calculó como el número total de columnas sobre el número de neuronas por capa, obteniendo como total 25. Para inicializar la capa de salida, se utilizó la función sigmoide.\n",
    "\n",
    "[1]: https://machinelearningmastery.com/how-to-configure-the-number-of-layers-and-nodes-in-a-neural-network/\n",
    "[2]: https://medium.com/datadriveninvestor/building-neural-network-using-keras-for-classification-3a3656c726c1"
   ]
  },
  {
   "cell_type": "code",
   "execution_count": 27,
   "metadata": {},
   "outputs": [],
   "source": [
    "#Besides the input and the output layers, we will use 25 layers for the analysis\n",
    "classifier = Sequential()\n",
    "#Hidden Layer 1 <-input\n",
    "classifier.add(Dense(8, activation='relu', kernel_initializer='random_normal', input_dim=206))\n",
    "#Hidden Layer 2\n",
    "classifier.add(Dense(8, activation='relu', kernel_initializer='random_normal'))\n",
    "#Hidden Layer 3\n",
    "classifier.add(Dense(8, activation='relu', kernel_initializer='random_normal'))\n",
    "#Hidden Layer 4\n",
    "classifier.add(Dense(8, activation='relu', kernel_initializer='random_normal'))\n",
    "#Hidden Layer 5\n",
    "classifier.add(Dense(8, activation='relu', kernel_initializer='random_normal'))\n",
    "#Hidden Layer 6\n",
    "classifier.add(Dense(8, activation='relu', kernel_initializer='random_normal'))\n",
    "#Hidden Layer 7\n",
    "classifier.add(Dense(8, activation='relu', kernel_initializer='random_normal'))\n",
    "#Hidden Layer 8\n",
    "classifier.add(Dense(8, activation='relu', kernel_initializer='random_normal'))\n",
    "#Hidden Layer 9\n",
    "classifier.add(Dense(8, activation='relu', kernel_initializer='random_normal'))\n",
    "#Hidden Layer 10\n",
    "classifier.add(Dense(8, activation='relu', kernel_initializer='random_normal'))\n",
    "#Hidden Layer 11\n",
    "classifier.add(Dense(8, activation='relu', kernel_initializer='random_normal'))\n",
    "#Hidden Layer 12\n",
    "classifier.add(Dense(8, activation='relu', kernel_initializer='random_normal'))\n",
    "#Hidden Layer 13\n",
    "classifier.add(Dense(8, activation='relu', kernel_initializer='random_normal'))\n",
    "#Hidden Layer 14\n",
    "classifier.add(Dense(8, activation='relu', kernel_initializer='random_normal'))\n",
    "#Hidden Layer 15\n",
    "classifier.add(Dense(8, activation='relu', kernel_initializer='random_normal'))\n",
    "#Hidden Layer 16\n",
    "classifier.add(Dense(8, activation='relu', kernel_initializer='random_normal'))\n",
    "#Hidden Layer 17\n",
    "classifier.add(Dense(8, activation='relu', kernel_initializer='random_normal'))\n",
    "#Hidden Layer 18\n",
    "classifier.add(Dense(8, activation='relu', kernel_initializer='random_normal'))\n",
    "#Hidden Layer 19\n",
    "classifier.add(Dense(8, activation='relu', kernel_initializer='random_normal'))\n",
    "#Hidden Layer 20\n",
    "classifier.add(Dense(8, activation='relu', kernel_initializer='random_normal'))\n",
    "#Hidden Layer 21\n",
    "classifier.add(Dense(8, activation='relu', kernel_initializer='random_normal'))\n",
    "#Hidden Layer 22\n",
    "classifier.add(Dense(8, activation='relu', kernel_initializer='random_normal'))\n",
    "#Hidden Layer 23\n",
    "classifier.add(Dense(8, activation='relu', kernel_initializer='random_normal'))\n",
    "#Hidden Layer 24\n",
    "classifier.add(Dense(8, activation='relu', kernel_initializer='random_normal'))\n",
    "\n",
    "#Output Layer\n",
    "classifier.add(Dense(1, activation='sigmoid', kernel_initializer='random_normal'))"
   ]
  },
  {
   "cell_type": "markdown",
   "metadata": {},
   "source": [
    "Se compila la red neuronal, utilizando la optimización por medio de estimación de momento adaptivo (ADAM)"
   ]
  },
  {
   "cell_type": "code",
   "execution_count": 29,
   "metadata": {},
   "outputs": [],
   "source": [
    "#Compiling the neural network\n",
    "classifier.compile(optimizer ='adam',loss='binary_crossentropy', metrics =['accuracy'])"
   ]
  },
  {
   "cell_type": "markdown",
   "metadata": {},
   "source": [
    "Se hacen 100 iteraciones"
   ]
  },
  {
   "cell_type": "code",
   "execution_count": 30,
   "metadata": {},
   "outputs": [
    {
     "name": "stdout",
     "output_type": "stream",
     "text": [
      "Epoch 1/100\n",
      "607/607 [==============================] - 1s 2ms/step - loss: 0.6860 - accuracy: 0.9160\n",
      "Epoch 2/100\n",
      "607/607 [==============================] - 0s 122us/step - loss: 0.6660 - accuracy: 0.9555\n",
      "Epoch 3/100\n",
      "607/607 [==============================] - 0s 128us/step - loss: 0.6313 - accuracy: 0.9555\n",
      "Epoch 4/100\n",
      "607/607 [==============================] - 0s 122us/step - loss: 0.5541 - accuracy: 0.9555\n",
      "Epoch 5/100\n",
      "607/607 [==============================] - 0s 103us/step - loss: 0.3746 - accuracy: 0.9555\n",
      "Epoch 6/100\n",
      "607/607 [==============================] - 0s 107us/step - loss: 0.1951 - accuracy: 0.9555\n",
      "Epoch 7/100\n",
      "607/607 [==============================] - 0s 107us/step - loss: 0.1862 - accuracy: 0.9555\n",
      "Epoch 8/100\n",
      "607/607 [==============================] - 0s 106us/step - loss: 0.1829 - accuracy: 0.9555\n",
      "Epoch 9/100\n",
      "607/607 [==============================] - 0s 105us/step - loss: 0.1825 - accuracy: 0.9555\n",
      "Epoch 10/100\n",
      "607/607 [==============================] - 0s 108us/step - loss: 0.1838 - accuracy: 0.9555\n",
      "Epoch 11/100\n",
      "607/607 [==============================] - 0s 118us/step - loss: 0.1822 - accuracy: 0.9555\n",
      "Epoch 12/100\n",
      "607/607 [==============================] - 0s 121us/step - loss: 0.1824 - accuracy: 0.9555\n",
      "Epoch 13/100\n",
      "607/607 [==============================] - 0s 114us/step - loss: 0.1829 - accuracy: 0.9555\n",
      "Epoch 14/100\n",
      "607/607 [==============================] - 0s 108us/step - loss: 0.1826 - accuracy: 0.9555\n",
      "Epoch 15/100\n",
      "607/607 [==============================] - 0s 99us/step - loss: 0.1827 - accuracy: 0.9555\n",
      "Epoch 16/100\n",
      "607/607 [==============================] - 0s 102us/step - loss: 0.1826 - accuracy: 0.9555\n",
      "Epoch 17/100\n",
      "607/607 [==============================] - 0s 103us/step - loss: 0.1836 - accuracy: 0.9555\n",
      "Epoch 18/100\n",
      "607/607 [==============================] - 0s 105us/step - loss: 0.1855 - accuracy: 0.9555\n",
      "Epoch 19/100\n",
      "607/607 [==============================] - 0s 100us/step - loss: 0.1835 - accuracy: 0.9555\n",
      "Epoch 20/100\n",
      "607/607 [==============================] - 0s 111us/step - loss: 0.1839 - accuracy: 0.9555\n",
      "Epoch 21/100\n",
      "607/607 [==============================] - 0s 108us/step - loss: 0.1823 - accuracy: 0.9555\n",
      "Epoch 22/100\n",
      "607/607 [==============================] - 0s 111us/step - loss: 0.1828 - accuracy: 0.9555\n",
      "Epoch 23/100\n",
      "607/607 [==============================] - 0s 119us/step - loss: 0.1828 - accuracy: 0.9555\n",
      "Epoch 24/100\n",
      "607/607 [==============================] - 0s 135us/step - loss: 0.1823 - accuracy: 0.9555\n",
      "Epoch 25/100\n",
      "607/607 [==============================] - 0s 116us/step - loss: 0.1829 - accuracy: 0.9555\n",
      "Epoch 26/100\n",
      "607/607 [==============================] - 0s 105us/step - loss: 0.1828 - accuracy: 0.9555\n",
      "Epoch 27/100\n",
      "607/607 [==============================] - 0s 106us/step - loss: 0.1828 - accuracy: 0.9555\n",
      "Epoch 28/100\n",
      "607/607 [==============================] - 0s 110us/step - loss: 0.1824 - accuracy: 0.9555\n",
      "Epoch 29/100\n",
      "607/607 [==============================] - 0s 115us/step - loss: 0.1825 - accuracy: 0.9555\n",
      "Epoch 30/100\n",
      "607/607 [==============================] - 0s 113us/step - loss: 0.1826 - accuracy: 0.9555\n",
      "Epoch 31/100\n",
      "607/607 [==============================] - 0s 110us/step - loss: 0.1822 - accuracy: 0.9555\n",
      "Epoch 32/100\n",
      "607/607 [==============================] - 0s 115us/step - loss: 0.1830 - accuracy: 0.9555\n",
      "Epoch 33/100\n",
      "607/607 [==============================] - 0s 110us/step - loss: 0.1832 - accuracy: 0.9555\n",
      "Epoch 34/100\n",
      "607/607 [==============================] - 0s 120us/step - loss: 0.1823 - accuracy: 0.9555\n",
      "Epoch 35/100\n",
      "607/607 [==============================] - 0s 114us/step - loss: 0.1821 - accuracy: 0.9555\n",
      "Epoch 36/100\n",
      "607/607 [==============================] - 0s 105us/step - loss: 0.1822 - accuracy: 0.9555\n",
      "Epoch 37/100\n",
      "607/607 [==============================] - 0s 149us/step - loss: 0.1822 - accuracy: 0.9555\n",
      "Epoch 38/100\n",
      "607/607 [==============================] - 0s 155us/step - loss: 0.1820 - accuracy: 0.9555\n",
      "Epoch 39/100\n",
      "607/607 [==============================] - 0s 164us/step - loss: 0.1826 - accuracy: 0.9555\n",
      "Epoch 40/100\n",
      "607/607 [==============================] - 0s 98us/step - loss: 0.1823 - accuracy: 0.9555\n",
      "Epoch 41/100\n",
      "607/607 [==============================] - 0s 117us/step - loss: 0.1830 - accuracy: 0.9555\n",
      "Epoch 42/100\n",
      "607/607 [==============================] - 0s 105us/step - loss: 0.1822 - accuracy: 0.9555\n",
      "Epoch 43/100\n",
      "607/607 [==============================] - 0s 108us/step - loss: 0.1825 - accuracy: 0.9555\n",
      "Epoch 44/100\n",
      "607/607 [==============================] - 0s 114us/step - loss: 0.1827 - accuracy: 0.9555\n",
      "Epoch 45/100\n",
      "607/607 [==============================] - 0s 112us/step - loss: 0.1830 - accuracy: 0.9555\n",
      "Epoch 46/100\n",
      "607/607 [==============================] - 0s 100us/step - loss: 0.1827 - accuracy: 0.9555\n",
      "Epoch 47/100\n",
      "607/607 [==============================] - 0s 112us/step - loss: 0.1829 - accuracy: 0.9555\n",
      "Epoch 48/100\n",
      "607/607 [==============================] - 0s 109us/step - loss: 0.1827 - accuracy: 0.9555\n",
      "Epoch 49/100\n",
      "607/607 [==============================] - 0s 125us/step - loss: 0.1834 - accuracy: 0.9555\n",
      "Epoch 50/100\n",
      "607/607 [==============================] - 0s 118us/step - loss: 0.1826 - accuracy: 0.9555\n",
      "Epoch 51/100\n",
      "607/607 [==============================] - 0s 123us/step - loss: 0.1828 - accuracy: 0.9555\n",
      "Epoch 52/100\n",
      "607/607 [==============================] - 0s 122us/step - loss: 0.1826 - accuracy: 0.9555\n",
      "Epoch 53/100\n",
      "607/607 [==============================] - 0s 136us/step - loss: 0.1824 - accuracy: 0.9555\n",
      "Epoch 54/100\n",
      "607/607 [==============================] - 0s 114us/step - loss: 0.1823 - accuracy: 0.9555\n",
      "Epoch 55/100\n",
      "607/607 [==============================] - 0s 121us/step - loss: 0.1827 - accuracy: 0.9555\n",
      "Epoch 56/100\n",
      "607/607 [==============================] - 0s 122us/step - loss: 0.1827 - accuracy: 0.9555\n",
      "Epoch 57/100\n",
      "607/607 [==============================] - 0s 108us/step - loss: 0.1834 - accuracy: 0.9555\n",
      "Epoch 58/100\n",
      "607/607 [==============================] - 0s 118us/step - loss: 0.1828 - accuracy: 0.9555\n",
      "Epoch 59/100\n",
      "607/607 [==============================] - 0s 111us/step - loss: 0.1828 - accuracy: 0.9555\n",
      "Epoch 60/100\n",
      "607/607 [==============================] - 0s 114us/step - loss: 0.1828 - accuracy: 0.9555\n",
      "Epoch 61/100\n",
      "607/607 [==============================] - 0s 110us/step - loss: 0.1822 - accuracy: 0.9555\n",
      "Epoch 62/100\n",
      "607/607 [==============================] - 0s 123us/step - loss: 0.1823 - accuracy: 0.9555\n",
      "Epoch 63/100\n",
      "607/607 [==============================] - 0s 114us/step - loss: 0.1823 - accuracy: 0.9555\n",
      "Epoch 64/100\n",
      "607/607 [==============================] - 0s 116us/step - loss: 0.1826 - accuracy: 0.9555\n",
      "Epoch 65/100\n",
      "607/607 [==============================] - 0s 119us/step - loss: 0.1825 - accuracy: 0.9555\n",
      "Epoch 66/100\n",
      "607/607 [==============================] - 0s 109us/step - loss: 0.1848 - accuracy: 0.9555\n",
      "Epoch 67/100\n",
      "607/607 [==============================] - 0s 128us/step - loss: 0.1829 - accuracy: 0.9555\n",
      "Epoch 68/100\n",
      "607/607 [==============================] - 0s 108us/step - loss: 0.1826 - accuracy: 0.9555\n",
      "Epoch 69/100\n",
      "607/607 [==============================] - 0s 105us/step - loss: 0.1823 - accuracy: 0.9555\n",
      "Epoch 70/100\n",
      "607/607 [==============================] - 0s 105us/step - loss: 0.1822 - accuracy: 0.9555\n",
      "Epoch 71/100\n",
      "607/607 [==============================] - 0s 133us/step - loss: 0.1829 - accuracy: 0.9555\n",
      "Epoch 72/100\n",
      "607/607 [==============================] - 0s 126us/step - loss: 0.1822 - accuracy: 0.9555\n",
      "Epoch 73/100\n",
      "607/607 [==============================] - 0s 108us/step - loss: 0.1827 - accuracy: 0.9555\n",
      "Epoch 74/100\n",
      "607/607 [==============================] - 0s 105us/step - loss: 0.1834 - accuracy: 0.9555\n",
      "Epoch 75/100\n",
      "607/607 [==============================] - 0s 121us/step - loss: 0.1828 - accuracy: 0.9555\n",
      "Epoch 76/100\n",
      "607/607 [==============================] - 0s 122us/step - loss: 0.1834 - accuracy: 0.9555\n",
      "Epoch 77/100\n",
      "607/607 [==============================] - 0s 120us/step - loss: 0.1840 - accuracy: 0.9555\n",
      "Epoch 78/100\n",
      "607/607 [==============================] - 0s 176us/step - loss: 0.1825 - accuracy: 0.9555\n",
      "Epoch 79/100\n",
      "607/607 [==============================] - 0s 111us/step - loss: 0.1827 - accuracy: 0.9555\n",
      "Epoch 80/100\n",
      "607/607 [==============================] - 0s 116us/step - loss: 0.1822 - accuracy: 0.9555\n",
      "Epoch 81/100\n",
      "607/607 [==============================] - 0s 100us/step - loss: 0.1824 - accuracy: 0.9555\n",
      "Epoch 82/100\n",
      "607/607 [==============================] - 0s 96us/step - loss: 0.1825 - accuracy: 0.9555\n",
      "Epoch 83/100\n",
      "607/607 [==============================] - 0s 115us/step - loss: 0.1831 - accuracy: 0.9555\n",
      "Epoch 84/100\n",
      "607/607 [==============================] - 0s 103us/step - loss: 0.1829 - accuracy: 0.9555\n",
      "Epoch 85/100\n",
      "607/607 [==============================] - 0s 98us/step - loss: 0.1838 - accuracy: 0.9555\n",
      "Epoch 86/100\n",
      "607/607 [==============================] - 0s 97us/step - loss: 0.1848 - accuracy: 0.9555\n",
      "Epoch 87/100\n",
      "607/607 [==============================] - 0s 100us/step - loss: 0.1823 - accuracy: 0.9555\n",
      "Epoch 88/100\n",
      "607/607 [==============================] - 0s 106us/step - loss: 0.1834 - accuracy: 0.9555\n",
      "Epoch 89/100\n",
      "607/607 [==============================] - 0s 113us/step - loss: 0.1824 - accuracy: 0.9555\n",
      "Epoch 90/100\n",
      "607/607 [==============================] - 0s 100us/step - loss: 0.1826 - accuracy: 0.9555\n",
      "Epoch 91/100\n",
      "607/607 [==============================] - 0s 100us/step - loss: 0.1838 - accuracy: 0.9555\n",
      "Epoch 92/100\n",
      "607/607 [==============================] - 0s 95us/step - loss: 0.1828 - accuracy: 0.9555\n",
      "Epoch 93/100\n",
      "607/607 [==============================] - 0s 103us/step - loss: 0.1827 - accuracy: 0.9555\n",
      "Epoch 94/100\n",
      "607/607 [==============================] - 0s 107us/step - loss: 0.1827 - accuracy: 0.9555\n",
      "Epoch 95/100\n",
      "607/607 [==============================] - 0s 104us/step - loss: 0.1823 - accuracy: 0.9555\n",
      "Epoch 96/100\n",
      "607/607 [==============================] - 0s 115us/step - loss: 0.1828 - accuracy: 0.9555\n",
      "Epoch 97/100\n",
      "607/607 [==============================] - 0s 104us/step - loss: 0.1832 - accuracy: 0.9555\n",
      "Epoch 98/100\n",
      "607/607 [==============================] - 0s 117us/step - loss: 0.1819 - accuracy: 0.9555\n",
      "Epoch 99/100\n",
      "607/607 [==============================] - 0s 110us/step - loss: 0.1825 - accuracy: 0.9555\n",
      "Epoch 100/100\n",
      "607/607 [==============================] - 0s 115us/step - loss: 0.1826 - accuracy: 0.9555\n"
     ]
    },
    {
     "data": {
      "text/plain": [
       "<keras.callbacks.callbacks.History at 0x7f64f9792400>"
      ]
     },
     "execution_count": 30,
     "metadata": {},
     "output_type": "execute_result"
    }
   ],
   "source": [
    "#Fitting the data to the training dataset\n",
    "classifier.fit(X_train,y_train, batch_size=24, epochs=100)"
   ]
  },
  {
   "cell_type": "markdown",
   "metadata": {},
   "source": [
    "Se evalúa el modelo y se obtiene el valor de la pérdida y el porcentaje de precisión del modelo, obteniendo un 95.5% de precisión."
   ]
  },
  {
   "cell_type": "code",
   "execution_count": 33,
   "metadata": {},
   "outputs": [
    {
     "name": "stdout",
     "output_type": "stream",
     "text": [
      "607/607 [==============================] - 0s 34us/step\n"
     ]
    },
    {
     "data": {
      "text/plain": [
       "[0.18193950092871067, 0.9555189609527588]"
      ]
     },
     "execution_count": 33,
     "metadata": {},
     "output_type": "execute_result"
    }
   ],
   "source": [
    "eval_model=classifier.evaluate(X_train, y_train)\n",
    "eval_model"
   ]
  },
  {
   "cell_type": "markdown",
   "metadata": {},
   "source": [
    "Se introducen valores de prueba, para evaluar en cuántos de estos se puede predecir acertadamente la clase"
   ]
  },
  {
   "cell_type": "code",
   "execution_count": 38,
   "metadata": {},
   "outputs": [],
   "source": [
    "y_pred=classifier.predict(X_test)\n",
    "y_pred =(y_pred>0.5)"
   ]
  },
  {
   "cell_type": "markdown",
   "metadata": {},
   "source": [
    "Se importa la función confusion_matrix, en la cual se evalúan en cuántas de las instancias introducidas durante la prueba se predijo la clase de forma correcta. Se obtuvo que en todas las clases introducidas, se logro predecir acertadamente"
   ]
  },
  {
   "cell_type": "code",
   "execution_count": 40,
   "metadata": {},
   "outputs": [
    {
     "name": "stdout",
     "output_type": "stream",
     "text": [
      "[[  0  40]\n",
      " [  0 567]]\n"
     ]
    }
   ],
   "source": [
    "from sklearn.metrics import confusion_matrix\n",
    "cm = confusion_matrix(y_test, y_pred)\n",
    "print(cm)"
   ]
  },
  {
   "cell_type": "markdown",
   "metadata": {},
   "source": [
    "<h3>Probando con otro campus</h3>"
   ]
  },
  {
   "cell_type": "code",
   "execution_count": 42,
   "metadata": {},
   "outputs": [],
   "source": [
    "#Testing with another campus\n",
    "mty = get_campus(df, 'MTY (Monterrey)')\n",
    "m = cat_to_num(mty)"
   ]
  },
  {
   "cell_type": "code",
   "execution_count": 44,
   "metadata": {},
   "outputs": [],
   "source": [
    "X= m.iloc[:,0:755]\n",
    "y= m.iloc[:,755]"
   ]
  },
  {
   "cell_type": "code",
   "execution_count": 45,
   "metadata": {},
   "outputs": [
    {
     "data": {
      "text/plain": [
       "array([[ 1.12104493, -0.75851544,  0.75851544, ..., -0.02440113,\n",
       "        -0.23507239, -0.04729132],\n",
       "       [ 0.43092789, -0.75851544,  0.75851544, ..., -0.02440113,\n",
       "        -0.23507239, -0.04729132],\n",
       "       [ 0.32741033, -0.75851544,  0.75851544, ..., -0.02440113,\n",
       "        -0.23507239, -0.04729132],\n",
       "       ...,\n",
       "       [ 0.12037522, -0.75851544,  0.75851544, ..., -0.02440113,\n",
       "        -0.23507239, -0.04729132],\n",
       "       [ 1.4315976 , -0.75851544,  0.75851544, ..., -0.02440113,\n",
       "        -0.23507239, -0.04729132],\n",
       "       [ 0.39642204, -0.75851544,  0.75851544, ..., -0.02440113,\n",
       "        -0.23507239, -0.04729132]])"
      ]
     },
     "execution_count": 45,
     "metadata": {},
     "output_type": "execute_result"
    }
   ],
   "source": [
    "X = sc.fit_transform(X)\n",
    "X"
   ]
  },
  {
   "cell_type": "code",
   "execution_count": 46,
   "metadata": {},
   "outputs": [],
   "source": [
    "X_train, X_test, y_train, y_test = train_test_split(X, y, test_size=0.3)"
   ]
  },
  {
   "cell_type": "code",
   "execution_count": 47,
   "metadata": {},
   "outputs": [],
   "source": [
    "#Besides the input and the output layers, we will use 25 layers for the analysis\n",
    "classifier = Sequential()\n",
    "#Hidden Layer 1\n",
    "classifier.add(Dense(8, activation='relu', kernel_initializer='random_normal', input_dim=755))\n",
    "#Hidden Layer 2\n",
    "classifier.add(Dense(8, activation='relu', kernel_initializer='random_normal'))\n",
    "#Hidden Layer 3\n",
    "classifier.add(Dense(8, activation='relu', kernel_initializer='random_normal'))\n",
    "#Hidden Layer 4\n",
    "classifier.add(Dense(8, activation='relu', kernel_initializer='random_normal'))\n",
    "#Hidden Layer 5\n",
    "classifier.add(Dense(8, activation='relu', kernel_initializer='random_normal'))\n",
    "#Hidden Layer 6\n",
    "classifier.add(Dense(8, activation='relu', kernel_initializer='random_normal'))\n",
    "#Hidden Layer 7\n",
    "classifier.add(Dense(8, activation='relu', kernel_initializer='random_normal'))\n",
    "#Hidden Layer 8\n",
    "classifier.add(Dense(8, activation='relu', kernel_initializer='random_normal'))\n",
    "#Hidden Layer 9\n",
    "classifier.add(Dense(8, activation='relu', kernel_initializer='random_normal'))\n",
    "#Hidden Layer 10\n",
    "classifier.add(Dense(8, activation='relu', kernel_initializer='random_normal'))\n",
    "#Hidden Layer 11\n",
    "classifier.add(Dense(8, activation='relu', kernel_initializer='random_normal'))\n",
    "#Hidden Layer 12\n",
    "classifier.add(Dense(8, activation='relu', kernel_initializer='random_normal'))\n",
    "#Hidden Layer 13\n",
    "classifier.add(Dense(8, activation='relu', kernel_initializer='random_normal'))\n",
    "#Hidden Layer 14\n",
    "classifier.add(Dense(8, activation='relu', kernel_initializer='random_normal'))\n",
    "#Hidden Layer 15\n",
    "classifier.add(Dense(8, activation='relu', kernel_initializer='random_normal'))\n",
    "#Hidden Layer 16\n",
    "classifier.add(Dense(8, activation='relu', kernel_initializer='random_normal'))\n",
    "#Hidden Layer 17\n",
    "classifier.add(Dense(8, activation='relu', kernel_initializer='random_normal'))\n",
    "#Hidden Layer 18\n",
    "classifier.add(Dense(8, activation='relu', kernel_initializer='random_normal'))\n",
    "#Hidden Layer 19\n",
    "classifier.add(Dense(8, activation='relu', kernel_initializer='random_normal'))\n",
    "#Hidden Layer 20\n",
    "classifier.add(Dense(8, activation='relu', kernel_initializer='random_normal'))\n",
    "#Hidden Layer 21\n",
    "classifier.add(Dense(8, activation='relu', kernel_initializer='random_normal'))\n",
    "#Hidden Layer 22\n",
    "classifier.add(Dense(8, activation='relu', kernel_initializer='random_normal'))\n",
    "#Hidden Layer 23\n",
    "classifier.add(Dense(8, activation='relu', kernel_initializer='random_normal'))\n",
    "#Hidden Layer 24\n",
    "classifier.add(Dense(8, activation='relu', kernel_initializer='random_normal'))\n",
    "#Hidden Layer 25\n",
    "classifier.add(Dense(8, activation='relu', kernel_initializer='random_normal'))\n",
    "\n",
    "#Output Layer\n",
    "classifier.add(Dense(1, activation='sigmoid', kernel_initializer='random_normal'))"
   ]
  },
  {
   "cell_type": "code",
   "execution_count": 48,
   "metadata": {},
   "outputs": [],
   "source": [
    "classifier.compile(optimizer ='adam',loss='binary_crossentropy', metrics =['accuracy'])"
   ]
  },
  {
   "cell_type": "code",
   "execution_count": 49,
   "metadata": {},
   "outputs": [
    {
     "name": "stdout",
     "output_type": "stream",
     "text": [
      "Epoch 1/100\n",
      "4705/4705 [==============================] - 1s 192us/step - loss: 0.6745 - accuracy: 0.7819\n",
      "Epoch 2/100\n",
      "4705/4705 [==============================] - 0s 51us/step - loss: 0.5763 - accuracy: 0.7875\n",
      "Epoch 3/100\n",
      "4705/4705 [==============================] - 0s 50us/step - loss: 0.5174 - accuracy: 0.7875\n",
      "Epoch 4/100\n",
      "4705/4705 [==============================] - 0s 53us/step - loss: 0.5182 - accuracy: 0.7875\n",
      "Epoch 5/100\n",
      "4705/4705 [==============================] - 0s 52us/step - loss: 0.5179 - accuracy: 0.7875\n",
      "Epoch 6/100\n",
      "4705/4705 [==============================] - 0s 56us/step - loss: 0.5174 - accuracy: 0.7875\n",
      "Epoch 7/100\n",
      "4705/4705 [==============================] - 0s 55us/step - loss: 0.5174 - accuracy: 0.7875\n",
      "Epoch 8/100\n",
      "4705/4705 [==============================] - 0s 49us/step - loss: 0.5176 - accuracy: 0.7875\n",
      "Epoch 9/100\n",
      "4705/4705 [==============================] - 0s 50us/step - loss: 0.5175 - accuracy: 0.7875\n",
      "Epoch 10/100\n",
      "4705/4705 [==============================] - 0s 52us/step - loss: 0.5177 - accuracy: 0.7875\n",
      "Epoch 11/100\n",
      "4705/4705 [==============================] - 0s 50us/step - loss: 0.5175 - accuracy: 0.7875\n",
      "Epoch 12/100\n",
      "4705/4705 [==============================] - 0s 52us/step - loss: 0.5178 - accuracy: 0.7875\n",
      "Epoch 13/100\n",
      "4705/4705 [==============================] - 0s 52us/step - loss: 0.5175 - accuracy: 0.7875\n",
      "Epoch 14/100\n",
      "4705/4705 [==============================] - 0s 52us/step - loss: 0.5175 - accuracy: 0.7875\n",
      "Epoch 15/100\n",
      "4705/4705 [==============================] - 0s 56us/step - loss: 0.5176 - accuracy: 0.7875\n",
      "Epoch 16/100\n",
      "4705/4705 [==============================] - 0s 58us/step - loss: 0.5177 - accuracy: 0.7875\n",
      "Epoch 17/100\n",
      "4705/4705 [==============================] - 0s 50us/step - loss: 0.5175 - accuracy: 0.7875\n",
      "Epoch 18/100\n",
      "4705/4705 [==============================] - 0s 50us/step - loss: 0.5176 - accuracy: 0.7875\n",
      "Epoch 19/100\n",
      "4705/4705 [==============================] - 0s 49us/step - loss: 0.5174 - accuracy: 0.7875\n",
      "Epoch 20/100\n",
      "4705/4705 [==============================] - 0s 51us/step - loss: 0.5178 - accuracy: 0.7875\n",
      "Epoch 21/100\n",
      "4705/4705 [==============================] - 0s 50us/step - loss: 0.5175 - accuracy: 0.7875\n",
      "Epoch 22/100\n",
      "4705/4705 [==============================] - 0s 49us/step - loss: 0.5176 - accuracy: 0.7875\n",
      "Epoch 23/100\n",
      "4705/4705 [==============================] - 0s 52us/step - loss: 0.5176 - accuracy: 0.7875\n",
      "Epoch 24/100\n",
      "4705/4705 [==============================] - 0s 57us/step - loss: 0.5176 - accuracy: 0.7875\n",
      "Epoch 25/100\n",
      "4705/4705 [==============================] - 0s 69us/step - loss: 0.5176 - accuracy: 0.7875\n",
      "Epoch 26/100\n",
      "4705/4705 [==============================] - 0s 52us/step - loss: 0.5176 - accuracy: 0.7875\n",
      "Epoch 27/100\n",
      "4705/4705 [==============================] - ETA: 0s - loss: 0.5202 - accuracy: 0.78 - 0s 54us/step - loss: 0.5174 - accuracy: 0.7875\n",
      "Epoch 28/100\n",
      "4705/4705 [==============================] - 0s 50us/step - loss: 0.5177 - accuracy: 0.7875\n",
      "Epoch 29/100\n",
      "4705/4705 [==============================] - 0s 52us/step - loss: 0.5176 - accuracy: 0.7875\n",
      "Epoch 30/100\n",
      "4705/4705 [==============================] - 0s 52us/step - loss: 0.5179 - accuracy: 0.7875\n",
      "Epoch 31/100\n",
      "4705/4705 [==============================] - 0s 56us/step - loss: 0.5176 - accuracy: 0.7875\n",
      "Epoch 32/100\n",
      "4705/4705 [==============================] - 0s 59us/step - loss: 0.5174 - accuracy: 0.7875\n",
      "Epoch 33/100\n",
      "4705/4705 [==============================] - 0s 54us/step - loss: 0.5176 - accuracy: 0.7875\n",
      "Epoch 34/100\n",
      "4705/4705 [==============================] - 0s 53us/step - loss: 0.5176 - accuracy: 0.7875\n",
      "Epoch 35/100\n",
      "4705/4705 [==============================] - 0s 53us/step - loss: 0.5178 - accuracy: 0.7875\n",
      "Epoch 36/100\n",
      "4705/4705 [==============================] - 0s 54us/step - loss: 0.5178 - accuracy: 0.7875\n",
      "Epoch 37/100\n",
      "4705/4705 [==============================] - 0s 54us/step - loss: 0.5176 - accuracy: 0.7875\n",
      "Epoch 38/100\n",
      "4705/4705 [==============================] - 0s 55us/step - loss: 0.5175 - accuracy: 0.7875\n",
      "Epoch 39/100\n",
      "4705/4705 [==============================] - 0s 66us/step - loss: 0.5175 - accuracy: 0.7875\n",
      "Epoch 40/100\n",
      "4705/4705 [==============================] - 0s 52us/step - loss: 0.5175 - accuracy: 0.7875\n",
      "Epoch 41/100\n",
      "4705/4705 [==============================] - 0s 53us/step - loss: 0.5175 - accuracy: 0.7875\n",
      "Epoch 42/100\n",
      "4705/4705 [==============================] - 0s 57us/step - loss: 0.5176 - accuracy: 0.7875\n",
      "Epoch 43/100\n",
      "4705/4705 [==============================] - 0s 59us/step - loss: 0.5175 - accuracy: 0.7875\n",
      "Epoch 44/100\n",
      "4705/4705 [==============================] - 0s 61us/step - loss: 0.5175 - accuracy: 0.7875\n",
      "Epoch 45/100\n",
      "4705/4705 [==============================] - 0s 58us/step - loss: 0.5176 - accuracy: 0.7875\n",
      "Epoch 46/100\n",
      "4705/4705 [==============================] - 0s 52us/step - loss: 0.5177 - accuracy: 0.7875\n",
      "Epoch 47/100\n",
      "4705/4705 [==============================] - 0s 52us/step - loss: 0.5181 - accuracy: 0.7875\n",
      "Epoch 48/100\n",
      "4705/4705 [==============================] - 0s 52us/step - loss: 0.5174 - accuracy: 0.7875\n",
      "Epoch 49/100\n",
      "4705/4705 [==============================] - 0s 56us/step - loss: 0.5173 - accuracy: 0.7875\n",
      "Epoch 50/100\n",
      "4705/4705 [==============================] - 0s 52us/step - loss: 0.5175 - accuracy: 0.7875\n",
      "Epoch 51/100\n",
      "4705/4705 [==============================] - 0s 53us/step - loss: 0.5177 - accuracy: 0.7875\n",
      "Epoch 52/100\n",
      "4705/4705 [==============================] - 0s 55us/step - loss: 0.5176 - accuracy: 0.7875\n",
      "Epoch 53/100\n",
      "4705/4705 [==============================] - 0s 52us/step - loss: 0.5179 - accuracy: 0.7875\n",
      "Epoch 54/100\n",
      "4705/4705 [==============================] - 0s 50us/step - loss: 0.5177 - accuracy: 0.7875\n",
      "Epoch 55/100\n",
      "4705/4705 [==============================] - 0s 51us/step - loss: 0.5176 - accuracy: 0.7875\n",
      "Epoch 56/100\n",
      "4705/4705 [==============================] - 0s 53us/step - loss: 0.5177 - accuracy: 0.7875\n",
      "Epoch 57/100\n",
      "4705/4705 [==============================] - 0s 56us/step - loss: 0.5176 - accuracy: 0.7875\n",
      "Epoch 58/100\n",
      "4705/4705 [==============================] - 0s 51us/step - loss: 0.5178 - accuracy: 0.7875\n",
      "Epoch 59/100\n",
      "4705/4705 [==============================] - 0s 59us/step - loss: 0.5177 - accuracy: 0.7875\n",
      "Epoch 60/100\n",
      "4705/4705 [==============================] - 0s 52us/step - loss: 0.5175 - accuracy: 0.7875\n",
      "Epoch 61/100\n",
      "4705/4705 [==============================] - 0s 50us/step - loss: 0.5175 - accuracy: 0.7875\n",
      "Epoch 62/100\n",
      "4705/4705 [==============================] - 0s 50us/step - loss: 0.5175 - accuracy: 0.7875\n",
      "Epoch 63/100\n",
      "4705/4705 [==============================] - 0s 52us/step - loss: 0.5175 - accuracy: 0.7875\n",
      "Epoch 64/100\n",
      "4705/4705 [==============================] - 0s 53us/step - loss: 0.5175 - accuracy: 0.7875\n",
      "Epoch 65/100\n",
      "4705/4705 [==============================] - 0s 52us/step - loss: 0.5176 - accuracy: 0.7875\n",
      "Epoch 66/100\n",
      "4705/4705 [==============================] - 0s 50us/step - loss: 0.5175 - accuracy: 0.7875\n",
      "Epoch 67/100\n",
      "4705/4705 [==============================] - 0s 51us/step - loss: 0.5180 - accuracy: 0.7875\n",
      "Epoch 68/100\n",
      "4705/4705 [==============================] - 0s 51us/step - loss: 0.5175 - accuracy: 0.7875\n",
      "Epoch 69/100\n",
      "4705/4705 [==============================] - 0s 51us/step - loss: 0.5175 - accuracy: 0.7875\n",
      "Epoch 70/100\n",
      "4705/4705 [==============================] - 0s 50us/step - loss: 0.5176 - accuracy: 0.7875\n",
      "Epoch 71/100\n",
      "4705/4705 [==============================] - 0s 52us/step - loss: 0.5173 - accuracy: 0.7875\n",
      "Epoch 72/100\n",
      "4705/4705 [==============================] - 0s 51us/step - loss: 0.5174 - accuracy: 0.7875\n",
      "Epoch 73/100\n",
      "4705/4705 [==============================] - 0s 51us/step - loss: 0.5177 - accuracy: 0.7875\n",
      "Epoch 74/100\n",
      "4705/4705 [==============================] - 0s 48us/step - loss: 0.5176 - accuracy: 0.7875\n",
      "Epoch 75/100\n",
      "4705/4705 [==============================] - 0s 50us/step - loss: 0.5176 - accuracy: 0.7875\n",
      "Epoch 76/100\n",
      "4705/4705 [==============================] - 0s 52us/step - loss: 0.5178 - accuracy: 0.7875\n",
      "Epoch 77/100\n",
      "4705/4705 [==============================] - 0s 53us/step - loss: 0.5176 - accuracy: 0.7875\n",
      "Epoch 78/100\n",
      "4705/4705 [==============================] - 0s 49us/step - loss: 0.5175 - accuracy: 0.7875\n",
      "Epoch 79/100\n",
      "4705/4705 [==============================] - 0s 47us/step - loss: 0.5178 - accuracy: 0.7875\n",
      "Epoch 80/100\n",
      "4705/4705 [==============================] - 0s 48us/step - loss: 0.5177 - accuracy: 0.7875\n",
      "Epoch 81/100\n",
      "4705/4705 [==============================] - 0s 48us/step - loss: 0.5175 - accuracy: 0.7875\n",
      "Epoch 82/100\n",
      "4705/4705 [==============================] - 0s 47us/step - loss: 0.5176 - accuracy: 0.7875\n",
      "Epoch 83/100\n",
      "4705/4705 [==============================] - 0s 48us/step - loss: 0.5176 - accuracy: 0.7875\n",
      "Epoch 84/100\n",
      "4705/4705 [==============================] - 0s 49us/step - loss: 0.5175 - accuracy: 0.7875\n",
      "Epoch 85/100\n",
      "4705/4705 [==============================] - 0s 49us/step - loss: 0.5177 - accuracy: 0.7875\n",
      "Epoch 86/100\n",
      "4705/4705 [==============================] - 0s 49us/step - loss: 0.5178 - accuracy: 0.7875\n",
      "Epoch 87/100\n",
      "4705/4705 [==============================] - 0s 47us/step - loss: 0.5177 - accuracy: 0.7875\n",
      "Epoch 88/100\n",
      "4705/4705 [==============================] - 0s 47us/step - loss: 0.5177 - accuracy: 0.7875\n",
      "Epoch 89/100\n",
      "4705/4705 [==============================] - 0s 47us/step - loss: 0.5174 - accuracy: 0.7875\n",
      "Epoch 90/100\n",
      "4705/4705 [==============================] - 0s 48us/step - loss: 0.5177 - accuracy: 0.7875\n",
      "Epoch 91/100\n",
      "4705/4705 [==============================] - 0s 49us/step - loss: 0.5174 - accuracy: 0.7875\n",
      "Epoch 92/100\n",
      "4705/4705 [==============================] - 0s 48us/step - loss: 0.5175 - accuracy: 0.7875\n",
      "Epoch 93/100\n",
      "4705/4705 [==============================] - 0s 49us/step - loss: 0.5175 - accuracy: 0.7875\n",
      "Epoch 94/100\n",
      "4705/4705 [==============================] - 0s 50us/step - loss: 0.5177 - accuracy: 0.7875\n",
      "Epoch 95/100\n",
      "4705/4705 [==============================] - 0s 47us/step - loss: 0.5180 - accuracy: 0.7875\n",
      "Epoch 96/100\n",
      "4705/4705 [==============================] - 0s 46us/step - loss: 0.5174 - accuracy: 0.7875\n",
      "Epoch 97/100\n",
      "4705/4705 [==============================] - 0s 48us/step - loss: 0.5174 - accuracy: 0.7875\n",
      "Epoch 98/100\n",
      "4705/4705 [==============================] - 0s 48us/step - loss: 0.5175 - accuracy: 0.7875\n",
      "Epoch 99/100\n",
      "4705/4705 [==============================] - 0s 47us/step - loss: 0.5179 - accuracy: 0.7875\n",
      "Epoch 100/100\n",
      "4705/4705 [==============================] - 0s 46us/step - loss: 0.5175 - accuracy: 0.7875\n"
     ]
    },
    {
     "data": {
      "text/plain": [
       "<keras.callbacks.callbacks.History at 0x7f64a7819f28>"
      ]
     },
     "execution_count": 49,
     "metadata": {},
     "output_type": "execute_result"
    }
   ],
   "source": [
    "classifier.fit(X_train,y_train, batch_size=50, epochs=100)"
   ]
  },
  {
   "cell_type": "code",
   "execution_count": 52,
   "metadata": {},
   "outputs": [],
   "source": [
    "y_pred=classifier.predict(X_test)\n",
    "y_pred =(y_pred>0.5)"
   ]
  },
  {
   "cell_type": "markdown",
   "metadata": {},
   "source": [
    "Se logró predecir de forma correcta en todos los registros introducidos"
   ]
  },
  {
   "cell_type": "code",
   "execution_count": 54,
   "metadata": {},
   "outputs": [
    {
     "name": "stdout",
     "output_type": "stream",
     "text": [
      "[[   0  453]\n",
      " [   0 1564]]\n"
     ]
    }
   ],
   "source": [
    "from sklearn.metrics import confusion_matrix\n",
    "cm = confusion_matrix(y_test, y_pred)\n",
    "print(cm)"
   ]
  },
  {
   "cell_type": "markdown",
   "metadata": {},
   "source": [
    "Se logró predecir de forma acertada todos los valores introducidos en ambas pruebas; sin embargo, esto puede ser indicador de que el modelo presenta overfitting"
   ]
  },
  {
   "cell_type": "markdown",
   "metadata": {},
   "source": [
    "# ¿Qué se piensa hacer para la entrega final?"
   ]
  },
  {
   "cell_type": "markdown",
   "metadata": {},
   "source": [
    "Para la entrega final, se planea terminar los algoritmos que están inconclusos y verificar si estos y los que ya están implementados presentan overfitting o no."
   ]
  }
 ],
 "metadata": {
  "kernelspec": {
   "display_name": "Python 3",
   "language": "python",
   "name": "python3"
  },
  "language_info": {
   "codemirror_mode": {
    "name": "ipython",
    "version": 3
   },
   "file_extension": ".py",
   "mimetype": "text/x-python",
   "name": "python",
   "nbconvert_exporter": "python",
   "pygments_lexer": "ipython3",
   "version": "3.6.9"
  }
 },
 "nbformat": 4,
 "nbformat_minor": 2
}
